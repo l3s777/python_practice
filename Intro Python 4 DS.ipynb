{
 "cells": [
  {
   "cell_type": "markdown",
   "metadata": {},
   "source": [
    "Getting started on Data Science?\n",
    "\n",
    "Python is a great tool to start learning Data Science! \n",
    "\n",
    "Follow this tutorial based on the course of <b>Introduction to Data Science with Python</b> at Edx with DataCamp\n",
    "https://courses.edx.org/courses/course-v1:Microsoft+DAT208x+3T2018"
   ]
  },
  {
   "cell_type": "markdown",
   "metadata": {},
   "source": [
    "Python was conceived by Guido Van Rossum, who started it as a hobby project but soon it became a general purpose programming language."
   ]
  },
  {
   "cell_type": "markdown",
   "metadata": {},
   "source": [
    "* Python can basically be seen as a calculator.\n",
    "\n",
    "lesly$ python\n",
    "\n",
    "   \">>\" 3 + 4\n",
    "\n",
    "   \">>\" 7\n",
    "\n",
    "But also, we can write our scripts to have all the program in one place, files written in python are like: example.py, but with extension .py"
   ]
  },
  {
   "cell_type": "markdown",
   "metadata": {},
   "source": [
    "* In Python, we can also storage data\n",
    "\n",
    "height = 1.79\n",
    "weight = 47\n",
    "\n",
    "In the command line, we can check the type of the variable\n",
    "type(height)"
   ]
  },
  {
   "cell_type": "markdown",
   "metadata": {},
   "source": [
    "* In Python, we can storage different kind of data:\n",
    "    - numbers: integers, floats ...\n",
    "    - strings: single char or full strings\n",
    "    - boolean values: true, false"
   ]
  },
  {
   "cell_type": "markdown",
   "metadata": {},
   "source": [
    "* If we need to storage multiple data in a \"single variable\" we can use <b>lists </b>\n",
    "\n",
    "Example:\n",
    "\n",
    "fav_fruits = ['banana' , 'apple']\n",
    "\n",
    "\n",
    "I can also score my favorites frutes in the same list, like this:\n",
    "\n",
    "fav_fruits = ['banana', 5, 'apple', 3, 'strawberry', 4]"
   ]
  },
  {
   "cell_type": "markdown",
   "metadata": {},
   "source": [
    "<h4> Working with Lists </h4>\n",
    "\n",
    "My example list:\n",
    "\n",
    "fav_fruits = ['banana', 5, 'apple', 3, 'strawberry', 4]\n",
    "\n",
    "\n",
    "Each element in the list has a position number <b>\"index\"</b>. \n",
    "Index in a list goes from 0, therefore:\n",
    "\n",
    "element 'banana' in my list 'fav_fruits' is at position '0'\n",
    "element 'strawberry' in my list 'fav_fruits' is at position '4'\n",
    "\n",
    "\n",
    "In the same list, we can <b>change, add, remove</b> elements.\n",
    "\n",
    "For example to delete:\n",
    "new_fav_fruits = del(fav_fruits['strawberry')"
   ]
  },
  {
   "cell_type": "markdown",
   "metadata": {},
   "source": [
    "<h4>Working with functions</h4>\n",
    "\n",
    "Sometimes, we have some calculations we have to repeat over and over and instead of re-writing that all the time we can create a function of that calculation, therefore to re use that piece of code.\n",
    "\n",
    "Some common functions or methods for lists:\n",
    "\n",
    "* max(fav_fruits)\n",
    "\n",
    "This returns 'strawberry' since it has more characters in lenght than the others.\n",
    "\n",
    "* fav_fruits.count('banana')\n",
    "\n",
    "This returns 1 since we have 'banana' in the list only once."
   ]
  },
  {
   "cell_type": "markdown",
   "metadata": {},
   "source": [
    "<h4>Help in Python</h4>\n",
    "Python has a great documentation and also it is possible to access it while typing with this command:\n",
    "\n",
    "\n",
    "```python\n",
    ">>> help(max)\n",
    "```"
   ]
  },
  {
   "cell_type": "markdown",
   "metadata": {},
   "source": [
    "More references:\n",
    "http://www.tutorialspoint.com/python/python_functions.htm"
   ]
  }
 ],
 "metadata": {
  "kernelspec": {
   "display_name": "Python 2",
   "language": "python",
   "name": "python2"
  },
  "language_info": {
   "codemirror_mode": {
    "name": "ipython",
    "version": 2
   },
   "file_extension": ".py",
   "mimetype": "text/x-python",
   "name": "python",
   "nbconvert_exporter": "python",
   "pygments_lexer": "ipython2",
   "version": "2.7.15"
  }
 },
 "nbformat": 4,
 "nbformat_minor": 2
}
